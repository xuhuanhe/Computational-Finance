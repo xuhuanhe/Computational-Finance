{
 "cells": [
  {
   "cell_type": "markdown",
   "metadata": {},
   "source": [
    "## CSCI 365/765 Final Project"
   ]
  },
  {
   "cell_type": "markdown",
   "metadata": {},
   "source": [
    "## Due Date: 6/29 before mid-night"
   ]
  },
  {
   "cell_type": "code",
   "execution_count": 42,
   "metadata": {},
   "outputs": [],
   "source": [
    "### Instructor: Alex Pang, Summer 2021\n",
    "### Group Name: Supreme\n",
    "### Members Name: Lin Shi, Rupinder Kaur, Xuhuan He"
   ]
  },
  {
   "cell_type": "code",
   "execution_count": 43,
   "metadata": {},
   "outputs": [],
   "source": [
    "import pandas as pd\n",
    "import numpy as np\n",
    "import datetime\n",
    "from math import log, exp, sqrt, pow"
   ]
  },
  {
   "cell_type": "code",
   "execution_count": 44,
   "metadata": {},
   "outputs": [],
   "source": [
    "# import all classes\n",
    "from stock import Stock\n",
    "from option import *\n",
    "from binomial_model import BinomialModel\n",
    "from blackscholes_model import BlackScholesModel\n",
    "from discount_cf_model import DiscountedCashFlowModel"
   ]
  },
  {
   "cell_type": "code",
   "execution_count": 45,
   "metadata": {},
   "outputs": [],
   "source": [
    "# example pricing_date and risk free rate\n",
    "pricing_date = datetime.date(2021, 6, 1)\n",
    "risk_free_rate = 0.04"
   ]
  },
  {
   "cell_type": "markdown",
   "metadata": {},
   "source": [
    "### Question 1 (Problem 13.5 of the textbook modified)"
   ]
  },
  {
   "cell_type": "markdown",
   "metadata": {},
   "source": [
    "### A stock price is currently 100. Over each of the next two six-month periods it is expected to go up by 10% (i.e. by a multiple factor of u = 1.1) or down by a multiple factor of d where d = 1/u. The risk-free interest rate is 8% per annum with continuous compounding. What is the value of a one-year European call option with a strike price of 100 using Binomial Model? "
   ]
  },
  {
   "cell_type": "code",
   "execution_count": 46,
   "metadata": {},
   "outputs": [
    {
     "name": "stdout",
     "output_type": "stream",
     "text": [
      "9.228371548345109\n"
     ]
    }
   ],
   "source": [
    "symbol = 'Q1'\n",
    "pricing_date = datetime.date(2021, 6, 1)\n",
    "risk_free_rate = 0.08\n",
    "model = BinomialModel(pricing_date, risk_free_rate)\n",
    "T = 1\n",
    "num_period = 2\n",
    "S0 = 100\n",
    "K = 100\n",
    "u = 1.1\n",
    "dt = T / num_period\n",
    "sigma = math.log(u) / math.sqrt(dt)\n",
    "stock = Stock(symbol, S0, sigma)\n",
    "call = EuropeanCallOption(stock, T, K)\n",
    "model_price = model.calc_model_price(call, num_period)\n",
    "print(model_price)"
   ]
  },
  {
   "cell_type": "markdown",
   "metadata": {},
   "source": [
    "### Question 2. Using the same assumption from Question 1. Calculate the European Put option with the same strike and expiry using Binomial Tree. Calculate also implied put price from the call price using Put-Call parity and the implied call price from the put price. Does Put-Call Parity hold for Binomial trees?"
   ]
  },
  {
   "cell_type": "code",
   "execution_count": 47,
   "metadata": {},
   "outputs": [
    {
     "name": "stdout",
     "output_type": "stream",
     "text": [
      "1.5400061870086883\n"
     ]
    }
   ],
   "source": [
    "symbol = 'Q2'\n",
    "pricing_date = datetime.date(2021, 6, 1)\n",
    "risk_free_rate = 0.08\n",
    "model = BinomialModel(pricing_date, risk_free_rate)\n",
    "T = 1\n",
    "num_period = 2\n",
    "S0 = 100\n",
    "K = 100\n",
    "u = 1.1\n",
    "dt = T / num_period\n",
    "sigma = math.log(u) / math.sqrt(dt)\n",
    "stock = Stock(symbol, S0, sigma)\n",
    "call = EuropeanPutOption(stock, T, K)\n",
    "model_price = model.calc_model_price(call, num_period)\n",
    "print(model_price)"
   ]
  },
  {
   "cell_type": "code",
   "execution_count": 48,
   "metadata": {},
   "outputs": [
    {
     "name": "stdout",
     "output_type": "stream",
     "text": [
      "1.5400061870086859\n"
     ]
    }
   ],
   "source": [
    "call = EuropeanCallOption(stock, T, K)\n",
    "put_price = model.calc_parity_price(call, 9.228371548345109)\n",
    "print(put_price)"
   ]
  },
  {
   "cell_type": "code",
   "execution_count": 49,
   "metadata": {},
   "outputs": [
    {
     "name": "stdout",
     "output_type": "stream",
     "text": [
      "9.228371548345109\n"
     ]
    }
   ],
   "source": [
    "call = EuropeanPutOption(stock, T, K)\n",
    "call_price = model.calc_parity_price(call, 1.5400061870086883)\n",
    "print(call_price)"
   ]
  },
  {
   "cell_type": "markdown",
   "metadata": {},
   "source": [
    "### Q: Does Put-Call Parity hold for Binomial trees?\n",
    "### A: Yes"
   ]
  },
  {
   "cell_type": "markdown",
   "metadata": {},
   "source": [
    "### Question 3  (Problem 13.17 of the textbook) "
   ]
  },
  {
   "cell_type": "markdown",
   "metadata": {},
   "source": [
    "### A stock index is currently 1,500. Its volatility is 18%. The risk-free rate is 4% per annum (continuously compounded) for all maturities and the dividend yield on the index is 2.5%. What is the value a 12-month American put option with a strike price of 1,480 given by a two-step binomial tree."
   ]
  },
  {
   "cell_type": "code",
   "execution_count": 50,
   "metadata": {},
   "outputs": [
    {
     "name": "stdout",
     "output_type": "stream",
     "text": [
      "78.4137177695263\n"
     ]
    }
   ],
   "source": [
    "symbol = 'Q3'\n",
    "pricing_date = datetime.date(2021, 6, 1)\n",
    "risk_free_rate = 0.04\n",
    "model = BinomialModel(pricing_date, risk_free_rate)\n",
    "T = 1\n",
    "N = 2\n",
    "S_0 = 1500\n",
    "K = 1480\n",
    "sigma = 0.18\n",
    "dt = T / num_period\n",
    "u = math.exp(sigma * math.sqrt(dt))\n",
    "sigma = math.log(u) / math.sqrt(dt)\n",
    "q = 0.025\n",
    "r = risk_free_rate\n",
    "model_price = model._binomial_american_put(S_0, K, T, r, sigma, q, N)\n",
    "print(model_price)"
   ]
  },
  {
   "cell_type": "markdown",
   "metadata": {},
   "source": [
    "### Question 4 (Problem 13.18 of the textbook)"
   ]
  },
  {
   "cell_type": "markdown",
   "metadata": {},
   "source": [
    "### The futures price of a commodity is 90.  Use a three-step Binomial tree to value (a) a nine-month American call option with strike price \\$93 and (b) a nine-month American put option with strike price 93. The volatility is 28% and the risk-free rate (all maturities) is 3% with continuous compounding"
   ]
  },
  {
   "cell_type": "code",
   "execution_count": 51,
   "metadata": {},
   "outputs": [
    {
     "name": "stdout",
     "output_type": "stream",
     "text": [
      "8.911449522816081\n"
     ]
    }
   ],
   "source": [
    "# question (a)\n",
    "symbol = 'Q4'\n",
    "pricing_date = datetime.date(2021, 6, 1)\n",
    "risk_free_rate = 0.03\n",
    "model = BinomialModel(pricing_date, risk_free_rate)\n",
    "T = 9/12\n",
    "num_period = 3\n",
    "S0 = 90\n",
    "K = 93\n",
    "sigma = 0.28\n",
    "dt = T / num_period\n",
    "u = math.exp(sigma * math.sqrt(dt))\n",
    "sigma = math.log(u) / math.sqrt(dt)\n",
    "stock = Stock(symbol, S0, sigma)\n",
    "call = AmericanCallOption(stock, T, K)\n",
    "model_price = model.calc_model_price(call, num_period)\n",
    "print(model_price)"
   ]
  },
  {
   "cell_type": "code",
   "execution_count": 52,
   "metadata": {},
   "outputs": [
    {
     "name": "stdout",
     "output_type": "stream",
     "text": [
      "10.019071364502532\n"
     ]
    }
   ],
   "source": [
    "# question (b)\n",
    "symbol = 'Q4'\n",
    "pricing_date = datetime.date(2021, 6, 1)\n",
    "risk_free_rate = 0.03\n",
    "model = BinomialModel(pricing_date, risk_free_rate)\n",
    "T = 9/12\n",
    "num_period = 3\n",
    "S0 = 90\n",
    "K = 93\n",
    "sigma = 0.28\n",
    "dt = T / num_period\n",
    "u = math.exp(sigma * math.sqrt(dt))\n",
    "sigma = math.log(u) / math.sqrt(dt)\n",
    "stock = Stock(symbol, S0, sigma)\n",
    "call = AmericanPutOption(stock, T, K)\n",
    "model_price = model.calc_model_price(call, num_period)\n",
    "print(model_price)"
   ]
  },
  {
   "cell_type": "markdown",
   "metadata": {},
   "source": [
    "### Question 5 (Problem 15.4 of the textbook)"
   ]
  },
  {
   "cell_type": "markdown",
   "metadata": {},
   "source": [
    "### Calculate the price of a three-month European put option on a non-dividend-paying stock with a strike price of 50 when the current stock price is 50, the risk-free interest rate is 10% per annum, and the volatility is 30% per annum using Black-Scholes Model "
   ]
  },
  {
   "cell_type": "code",
   "execution_count": 53,
   "metadata": {},
   "outputs": [
    {
     "name": "stdout",
     "output_type": "stream",
     "text": [
      "2.3759406675006467\n"
     ]
    }
   ],
   "source": [
    "symbol = 'Q5'\n",
    "pricing_date = datetime.date(2021, 6, 1)\n",
    "risk_free_rate = 0.10\n",
    "model = BlackScholesModel(pricing_date, risk_free_rate)\n",
    "T = 3/12\n",
    "num_period = 1\n",
    "dt = T / num_period\n",
    "S0 = 50\n",
    "K = 50\n",
    "sigma = 0.30 \n",
    "stock = Stock(symbol, S0, sigma) \n",
    "option = Option(Option.Type.PUT,Option.Style.EUROPEAN,stock,T,K) \n",
    "model_price = model.calc_model_price(option)\n",
    "print(model_price)"
   ]
  },
  {
   "cell_type": "markdown",
   "metadata": {},
   "source": [
    "### Question 6. Calculate the same call and put from Question 4, but assume European style and use Black-Scholes Model. Calculate also the European Call using the same assumptions as the put in Q5"
   ]
  },
  {
   "cell_type": "code",
   "execution_count": 54,
   "metadata": {},
   "outputs": [
    {
     "name": "stdout",
     "output_type": "stream",
     "text": [
      "3.610445066084015\n"
     ]
    }
   ],
   "source": [
    "symbol = 'Q6'\n",
    "pricing_date = datetime.date(2021, 6, 1)\n",
    "risk_free_rate = 0.10\n",
    "model = BlackScholesModel(pricing_date, risk_free_rate)\n",
    "T = 3/12\n",
    "num_period = 1\n",
    "dt = T / num_period\n",
    "S0 = 50\n",
    "K = 50\n",
    "sigma = 0.30 \n",
    "stock = Stock(symbol, S0, sigma) \n",
    "option = Option(Option.Type.CALL,Option.Style.EUROPEAN,stock,T,K) \n",
    "model_price = model.calc_model_price(option)\n",
    "print(model_price)"
   ]
  },
  {
   "cell_type": "markdown",
   "metadata": {},
   "source": [
    "### Question 7 (Problem 19.3 of the textbook)"
   ]
  },
  {
   "cell_type": "markdown",
   "metadata": {},
   "source": [
    "### Calculate the delta of an at-the-money six-month European call option on a non-dividend-paying stock when the risk-free interest rate is 10% per annum and the stock price volatility is 25% per annum. "
   ]
  },
  {
   "cell_type": "code",
   "execution_count": 55,
   "metadata": {},
   "outputs": [
    {
     "name": "stdout",
     "output_type": "stream",
     "text": [
      "delta:  0.6447672796293542\n"
     ]
    }
   ],
   "source": [
    "symbol = 'Q7'\n",
    "pricing_date = datetime.date(2021, 6, 1)\n",
    "risk_free_rate = 0.10\n",
    "model = BlackScholesModel(pricing_date, risk_free_rate)\n",
    "T = 6/12\n",
    "num_period = 1\n",
    "dt = T / num_period\n",
    "S0 = 100\n",
    "K = 100\n",
    "sigma = 0.25 \n",
    "stock = Stock(symbol, S0, sigma) \n",
    "option = Option(Option.Type.CALL,Option.Style.EUROPEAN,stock,T,K) \n",
    "print(\"delta: \",model.calc_delta(option))  "
   ]
  },
  {
   "cell_type": "markdown",
   "metadata": {},
   "source": [
    "### Question 8. Calculate the gamma, theta, vega and rho of the same European call option in Question 7"
   ]
  },
  {
   "cell_type": "code",
   "execution_count": 56,
   "metadata": {},
   "outputs": [
    {
     "name": "stdout",
     "output_type": "stream",
     "text": [
      "gamma:  0.021064902379923867\n",
      "theta:  -12.072231283969437\n",
      "vega:  26.331127974904835\n",
      "rho:  27.44724645121614\n"
     ]
    }
   ],
   "source": [
    "symbol = 'Q7'\n",
    "pricing_date = datetime.date(2021, 6, 1)\n",
    "risk_free_rate = 0.10\n",
    "model = BlackScholesModel(pricing_date, risk_free_rate)\n",
    "T = 6/12\n",
    "num_period = 1\n",
    "dt = T / num_period\n",
    "S0 = 100\n",
    "K = 100\n",
    "sigma = 0.25 \n",
    "stock = Stock(symbol, S0, sigma) \n",
    "option = Option(Option.Type.CALL,Option.Style.EUROPEAN,stock,T,K) \n",
    "print(\"gamma: \",model.calc_gamma(option))\n",
    "print(\"theta: \",model.calc_theta(option))\n",
    "print(\"vega: \",model.calc_vega(option))\n",
    "print(\"rho: \",model.calc_rho(option))  "
   ]
  },
  {
   "cell_type": "markdown",
   "metadata": {},
   "source": [
    "### Question 9: (Optional for undergraduate) Plot the graph of Delta, Gamma, Theta, Vega and Rho for the Call Option described in Question 7"
   ]
  }
 ],
 "metadata": {
  "kernelspec": {
   "display_name": "Python 3",
   "language": "python",
   "name": "python3"
  },
  "language_info": {
   "codemirror_mode": {
    "name": "ipython",
    "version": 3
   },
   "file_extension": ".py",
   "mimetype": "text/x-python",
   "name": "python",
   "nbconvert_exporter": "python",
   "pygments_lexer": "ipython3",
   "version": "3.8.8"
  }
 },
 "nbformat": 4,
 "nbformat_minor": 2
}
